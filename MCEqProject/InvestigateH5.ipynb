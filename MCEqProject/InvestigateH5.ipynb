{
 "cells": [
  {
   "cell_type": "code",
   "execution_count": null,
   "id": "38aef317",
   "metadata": {},
   "outputs": [
    {
     "name": "stdout",
     "output_type": "stream",
     "text": [
      "<KeysViewHDF5 ['common', 'continuous_losses', 'cross_sections', 'decays', 'hadronic_interactions']>\n",
      "<KeysViewHDF5 ['DPMJETIII191', 'DPMJETIII306', 'EPOSLHC', 'QGSJET01D', 'QGSJETII03', 'QGSJETII04', 'SIBYLL21', 'SIBYLL23', 'SIBYLL23C', 'SIBYLL23D']>\n"
     ]
    }
   ],
   "source": [
    "import h5py\n",
    "\n",
    "path = \"/scratch/nbenton/repositories/MCEq/src/MCEq/data/mceq_db_fine_v150.h5\"\n",
    "f = h5py.File(path, \"r\")\n",
    "\n",
    "\n",
    "#cs_air_ds = f[\"cross_sections/air\"] # <-- chained key\n",
    "print(f.keys())\n",
    "print(f[\"cross_sections/air\"].keys())"
   ]
  },
  {
   "cell_type": "code",
   "execution_count": null,
   "id": "1cc957e9",
   "metadata": {},
   "outputs": [
    {
     "name": "stdout",
     "output_type": "stream",
     "text": [
      "<KeysViewHDF5 ['common', 'continuous_losses', 'cross_sections', 'decays', 'hadronic_interactions']>\n",
      "<KeysViewHDF5 ['DPMJETIII191', 'DPMJETIII306', 'EPOSLHC', 'QGSJET01C', 'QGSJETII03', 'QGSJETII04', 'SIBYLL21', 'SIBYLL23', 'SIBYLL23C', 'SIBYLL23C03', 'SIBYLL23CPP']>\n"
     ]
    }
   ],
   "source": [
    "path = \"/scratch/nbenton/repositories/MCEq/src/MCEq/data/mceq_db_lext_dpm191_v12.h5\"\n",
    "f = h5py.File(path, \"r\")\n",
    "\n",
    "print(f.keys())\n",
    "print(f[\"cross_sections\"].keys())"
   ]
  },
  {
   "cell_type": "code",
   "execution_count": null,
   "id": "c1d76101",
   "metadata": {},
   "outputs": [],
   "source": []
  }
 ],
 "metadata": {
  "kernelspec": {
   "display_name": "project",
   "language": "python",
   "name": "python3"
  },
  "language_info": {
   "codemirror_mode": {
    "name": "ipython",
    "version": 3
   },
   "file_extension": ".py",
   "mimetype": "text/x-python",
   "name": "python",
   "nbconvert_exporter": "python",
   "pygments_lexer": "ipython3",
   "version": "3.11.3"
  }
 },
 "nbformat": 4,
 "nbformat_minor": 5
}
